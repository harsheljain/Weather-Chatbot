{
 "cells": [
  {
   "cell_type": "markdown",
   "metadata": {},
   "source": [
    "# WEATHER CHAT BOT"
   ]
  },
  {
   "cell_type": "code",
   "execution_count": 1,
   "metadata": {
    "collapsed": true
   },
   "outputs": [],
   "source": [
    "import numpy as np\n",
    "import pandas as pd\n",
    "from nltk.corpus import stopwords\n",
    "from nltk.tokenize import sent_tokenize, word_tokenize\n",
    "import re\n",
    "import nltk\n",
    "from nltk.stem import PorterStemmer\n",
    "from nltk.stem import WordNetLemmatizer\n",
    "from nltk.corpus import wordnet\n",
    "from itertools import chain\n",
    "from nltk import NaiveBayesClassifier as nbc\n",
    "import codecs\n",
    "import json\n",
    "from urllib.request import urlopen\n",
    "import datefinder\n",
    "import datetime,time\n",
    "from dateutil import parser\n",
    "from nltk.tag.stanford import StanfordNERTagger\n",
    "import pywapi\n",
    "import random\n",
    "import string"
   ]
  },
  {
   "cell_type": "markdown",
   "metadata": {},
   "source": [
    "# Get Default Location"
   ]
  },
  {
   "cell_type": "code",
   "execution_count": 2,
   "metadata": {
    "collapsed": true
   },
   "outputs": [],
   "source": [
    "def get_default_location():\n",
    "\n",
    "    reader = codecs.getreader(\"utf-8\")\n",
    "    url = 'http://ipinfo.io/json'\n",
    "    response = urlopen(url)\n",
    "    data = json.load(reader(response))\n",
    "    city = data['city']\n",
    "    region=data['region']\n",
    "    if_location_not_given = city + \", \" + region\n",
    "    return if_location_not_given"
   ]
  },
  {
   "cell_type": "markdown",
   "metadata": {},
   "source": [
    "# Get date"
   ]
  },
  {
   "cell_type": "code",
   "execution_count": 3,
   "metadata": {
    "collapsed": true
   },
   "outputs": [],
   "source": [
    "def get_day_of_week(question):\n",
    "\n",
    "    \n",
    "    question = question.lower()\n",
    "    matches = list(datefinder.find_dates(question))\n",
    "\n",
    "    if len(matches) > 0:\n",
    "        date = matches[0]\n",
    "        day = date.strftime('%A')\n",
    "    else:\n",
    "        if 'today' in question:\n",
    "            day = ((datetime.date.today()).strftime('%A'))\n",
    "        elif 'day after tomorrow' in question:\n",
    "            day = ((datetime.date.today() + datetime.timedelta(days = 2)).strftime('%A'))\n",
    "        elif 'tomorrow' in question:\n",
    "            day = ((datetime.date.today() + datetime.timedelta(days = 1)).strftime('%A'))\n",
    "        else:\n",
    "            day = ((datetime.date.today()).strftime('%A'))\n",
    "    return day"
   ]
  },
  {
   "cell_type": "markdown",
   "metadata": {
    "collapsed": true
   },
   "source": [
    "# Get Location"
   ]
  },
  {
   "cell_type": "code",
   "execution_count": 4,
   "metadata": {
    "collapsed": true
   },
   "outputs": [],
   "source": [
    "def get_location(question):\n",
    "    \n",
    "    location_tagger = StanfordNERTagger('Tagger/stanford-ner-2016-10-31/classifiers/english.all.3class.distsim.crf.ser.gz', 'Tagger/stanford-ner-2016-10-31/stanford-ner-3.7.0.jar')\n",
    "    question = question.title()\n",
    "    tag = location_tagger.tag(question.split())\n",
    "    loc_word = ''\n",
    "    for word,tag in tag:\n",
    "        if(tag == 'LOCATION'):\n",
    "            loc_word = loc_word + \" \" + word\n",
    "        loc_word = loc_word.strip()\n",
    "    if loc_word == '':\n",
    "        loc_word = get_default_location()\n",
    "    return loc_word"
   ]
  },
  {
   "cell_type": "markdown",
   "metadata": {},
   "source": [
    "# Get weather of that Day"
   ]
  },
  {
   "cell_type": "code",
   "execution_count": 5,
   "metadata": {
    "collapsed": true
   },
   "outputs": [],
   "source": [
    "def get_weather(city, day_of_week):\n",
    "   \n",
    "\n",
    " # Get Weather.com Data\n",
    "    count = 0\n",
    "    lookup = pywapi.get_location_ids(city)\n",
    "    while len(lookup) != 1:\n",
    "        if len(lookup) > 1:\n",
    "            print('Choose the correct one: ')\n",
    "            for i,j in zip(lookup.values(),range(1,len(lookup.values())+1)):\n",
    "                print(j,' Which one do you want ?',i)\n",
    "            city = input('Enter Location: ')\n",
    "            lookup = pywapi.get_location_ids(city)\n",
    "        if len(lookup) == 0:\n",
    "            print('Curent Location ',city,' is unable to locate')\n",
    "            city = input('Please provide the location correctly: ')\n",
    "            count += 1\n",
    "            lookup = pywapi.get_location_ids(city)\n",
    "            if count == 2:\n",
    "                city = input('Please provide the best nearest location, we are unable to find that for you : ')\n",
    "                lookup = pywapi.get_location_ids(city)\n",
    "    for k in lookup:\n",
    "        location_id = k\n",
    "    \n",
    "# Extracting the weather forcast for that location \n",
    "\n",
    "    weather_com = pywapi.get_weather_from_weather_com(location_id)\n",
    "    now_temp = weather_com['current_conditions']['temperature']\n",
    "    weather_forecast = pd.DataFrame.from_dict(weather_com['forecasts'])\n",
    "    weather_update = weather_com['current_conditions']['last_updated']\n",
    "    weather_forecast_night_data = pd.DataFrame.from_dict(weather_forecast['night'])\n",
    "    weather_forecast_day_data = pd.DataFrame.from_dict(weather_forecast['day'])\n",
    "    weather_forecast_day_night_data = weather_forecast_day_data.join(weather_forecast_night_data)\n",
    "\n",
    "#Extracting just relevant data\n",
    "\n",
    "    main_list = []\n",
    "    time_list = []\n",
    "    night_day_data = {}\n",
    "    for time in weather_forecast_day_night_data:\n",
    "        for i in range(len(weather_forecast_day_night_data[time])):\n",
    "            for key,value in weather_forecast_day_night_data[time][i].items():\n",
    "                if key == 'chance_precip':\n",
    "                    n_key = time + '_chances_of_rain'\n",
    "                    night_day_data[n_key] = value + '%'\n",
    "                if key == 'text':\n",
    "                    n_key = time + '_weather'\n",
    "                    if value == '':\n",
    "                        value = 'Clear'\n",
    "                    night_day_data[n_key] = value\n",
    "                if key == 'humidity':\n",
    "                    n_key = time + '_humidity'\n",
    "                    night_day_data[n_key] = value\n",
    "            time_list.append(night_day_data)\n",
    "            night_day_data = {}\n",
    "        main_list.append(time_list)\n",
    "        time_list = []\n",
    "\n",
    "# Merging the needful Data\n",
    "\n",
    "    day_data = pd.DataFrame.from_dict(main_list[0])\n",
    "    night_data = pd.DataFrame.from_dict(main_list[1])\n",
    "    day_data = day_data.join(night_data)\n",
    "    weather_forecast['current temperature'] = now_temp\n",
    "    high_data = pd.DataFrame(weather_forecast['high']).join(pd.DataFrame(weather_forecast['low']))\n",
    "    high_data_day = pd.DataFrame(weather_forecast['day_of_week']).join(high_data)\n",
    "    weather = high_data_day.join(day_data)\n",
    "    weather = weather.join(pd.DataFrame(weather_forecast['current temperature']))\n",
    "# Getting for that day\n",
    "\n",
    "    weather = weather.set_index(['day_of_week'])\n",
    "    if day_of_week in weather.index.tolist():\n",
    "        final_data = pd.DataFrame(weather.ix[day_of_week])\n",
    "        return final_data,weather_update,city\n",
    "    else:\n",
    "        return None, None, None"
   ]
  },
  {
   "cell_type": "markdown",
   "metadata": {},
   "source": [
    "# Getting the train Data"
   ]
  },
  {
   "cell_type": "code",
   "execution_count": 98,
   "metadata": {},
   "outputs": [
    {
     "name": "stdout",
     "output_type": "stream",
     "text": [
      "                                           sentence        label\n",
      "0                                      is it rainy?         rain\n",
      "1                               will it rain today?         rain\n",
      "2                         how will the weather be ?      weather\n",
      "3                              how is the weather ?      weather\n",
      "4                       how’s gonna be the weather?      weather\n",
      "5                                     is it cloudy?      weather\n",
      "6                          what’s the weather like?      weather\n",
      "7                                     is it sunny ?      weather\n",
      "8                              is it rainy outside?         rain\n",
      "9                      how is today’s weather like?      weather\n",
      "10                                will it drizzle ?         rain\n",
      "11                             is the weather fine?      weather\n",
      "12                                    will it rain?         rain\n",
      "13                           will it rain tomorrow?         rain\n",
      "14                 how is the weather in bengaluru?      weather\n",
      "15                        any chance of rain today?         rain\n",
      "16                         what is the temperature   temperature\n",
      "17                        is it raining in chennai?         rain\n",
      "18                      how is the weather in Pune?      weather\n",
      "19                            will it rain in pune?         rain\n",
      "20                           get me today’s weather      weather\n",
      "21                 what is today’s min temperature   temperature\n",
      "22              what is today’s minimum temperature  temperature\n",
      "23                         what is the temperature   temperature\n",
      "24                        can i expect any showers?         rain\n",
      "25                will there be any shower tomorrow         rain\n",
      "26                        how hot will it be today?  temperature\n",
      "27                           will it drizzle today?         rain\n",
      "28                       how cold will it be today?  temperature\n",
      "29                 how high the temperature will go  temperature\n",
      "..                                              ...          ...\n",
      "42                  will it rain day after tomorrow         rain\n",
      "43              give me the weather report of today      weather\n",
      "44           give me the weather report of tomorrow      weather\n",
      "45      tell me the status of weather on 20/04/2017      weather\n",
      "46                possibility of rain on 20/04/2017         rain\n",
      "47                                how hot is today?  temperature\n",
      "48                     weather report of karnataka?      weather\n",
      "49         will it rain in andhra pradesh tomorrow?         rain\n",
      "50  what will be th weather of coimbatore tomorrow?      weather\n",
      "51        will it rain in koramangala on 20/04/2017         rain\n",
      "52          give me the exact temperature of kerela  temperature\n",
      "53                               weather in guntur?      weather\n",
      "54  probability of rain in coimbatore on 20/04/2017         rain\n",
      "55                        will it be sunny tomorrow      weather\n",
      "56          is there any possibility of rain today?         rain\n",
      "57                               is it rainy today?         rain\n",
      "58                how will be the weather tomorrow?      weather\n",
      "59           what will be the temperature tomorrow?  temperature\n",
      "60              how hot will be day after tomorrow?  temperature\n",
      "61            tell me the correct weather of jaipur      weather\n",
      "62        what is the highest temperature in delhi?  temperature\n",
      "63       what is the lowest temperature in kashmir?  temperature\n",
      "64   what will be the maximum temperature tomorrow?  temperature\n",
      "65   what will be the minimum temperature tomorrow?  temperature\n",
      "66    maximum and minimum temperature on 20/04/2017  temperature\n",
      "67        tell me the peak temperature of meghalaya  temperature\n",
      "68                  utmost temperature of rajasthan  temperature\n",
      "69                      minimal temperture of coorg  temperature\n",
      "70               coldest temperature in kodaikanal   temperature\n",
      "71                   hottest temperature in chennai  temperature\n",
      "\n",
      "[72 rows x 2 columns]\n"
     ]
    },
    {
     "data": {
      "text/plain": [
       "[('is it rainy?', 'rain'),\n",
       " ('will it rain today?', 'rain'),\n",
       " ('how will the weather be ?', 'weather'),\n",
       " ('how is the weather ?', 'weather'),\n",
       " ('how’s gonna be the weather?', 'weather'),\n",
       " ('is it cloudy?', 'weather'),\n",
       " ('what’s the weather like?', 'weather'),\n",
       " ('is it sunny ?', 'weather'),\n",
       " ('is it rainy outside?', 'rain'),\n",
       " ('how is today’s weather like?', 'weather'),\n",
       " ('will it drizzle ?', 'rain'),\n",
       " ('is the weather fine?', 'weather'),\n",
       " ('will it rain?', 'rain'),\n",
       " ('will it rain tomorrow?', 'rain'),\n",
       " ('how is the weather in bengaluru?', 'weather'),\n",
       " ('any chance of rain today?', 'rain'),\n",
       " ('what is the temperature ', 'temperature'),\n",
       " ('is it raining in chennai?', 'rain'),\n",
       " ('how is the weather in Pune?', 'weather'),\n",
       " ('will it rain in pune?', 'rain'),\n",
       " ('get me today’s weather', 'weather'),\n",
       " ('what is today’s min temperature ', 'temperature'),\n",
       " ('what is today’s minimum temperature', 'temperature'),\n",
       " ('what is the temperature ', 'temperature'),\n",
       " ('can i expect any showers?', 'rain'),\n",
       " ('will there be any shower tomorrow', 'rain'),\n",
       " ('how hot will it be today?', 'temperature'),\n",
       " ('will it drizzle today?', 'rain'),\n",
       " ('how cold will it be today?', 'temperature'),\n",
       " ('how high the temperature will go', 'temperature'),\n",
       " ('how low the temperature will go', 'temperature'),\n",
       " ('how much will the temperature dip today', 'temperature'),\n",
       " ('how high the temperature will go in chennai?', 'temperature'),\n",
       " ('is it too hot in goa?', 'temperature'),\n",
       " ('what is the current weather?', 'weather'),\n",
       " ('what is the current temperature?', 'temperature'),\n",
       " ('weather update?', 'weather'),\n",
       " ('possibility of rain ', 'rain'),\n",
       " ('what is today’s max temperature ', 'temperature'),\n",
       " ('what is today’s maximum temperature ', 'temperature'),\n",
       " ('what is the weather like outside?', 'weather'),\n",
       " ('what is the status of weather day after tomorrow', 'weather'),\n",
       " ('will it rain day after tomorrow', 'rain'),\n",
       " ('give me the weather report of today', 'weather'),\n",
       " ('give me the weather report of tomorrow', 'weather'),\n",
       " ('tell me the status of weather on 20/04/2017', 'weather'),\n",
       " ('possibility of rain on 20/04/2017', 'rain'),\n",
       " ('how hot is today?', 'temperature'),\n",
       " ('weather report of karnataka?', 'weather'),\n",
       " ('will it rain in andhra pradesh tomorrow?', 'rain'),\n",
       " ('what will be th weather of coimbatore tomorrow?', 'weather'),\n",
       " ('will it rain in koramangala on 20/04/2017', 'rain'),\n",
       " ('give me the exact temperature of kerela', 'temperature'),\n",
       " ('weather in guntur?', 'weather'),\n",
       " ('probability of rain in coimbatore on 20/04/2017', 'rain'),\n",
       " ('will it be sunny tomorrow', 'weather'),\n",
       " ('is there any possibility of rain today?', 'rain'),\n",
       " ('is it rainy today?', 'rain'),\n",
       " ('how will be the weather tomorrow?', 'weather'),\n",
       " ('what will be the temperature tomorrow?', 'temperature'),\n",
       " ('how hot will be day after tomorrow?', 'temperature'),\n",
       " ('tell me the correct weather of jaipur', 'weather'),\n",
       " ('what is the highest temperature in delhi?', 'temperature'),\n",
       " ('what is the lowest temperature in kashmir?', 'temperature'),\n",
       " ('what will be the maximum temperature tomorrow?', 'temperature'),\n",
       " ('what will be the minimum temperature tomorrow?', 'temperature'),\n",
       " ('maximum and minimum temperature on 20/04/2017', 'temperature'),\n",
       " ('tell me the peak temperature of meghalaya', 'temperature'),\n",
       " ('utmost temperature of rajasthan', 'temperature'),\n",
       " ('minimal temperture of coorg', 'temperature'),\n",
       " ('coldest temperature in kodaikanal ', 'temperature'),\n",
       " ('hottest temperature in chennai', 'temperature')]"
      ]
     },
     "execution_count": 98,
     "metadata": {},
     "output_type": "execute_result"
    }
   ],
   "source": [
    "def get_traindata():\n",
    "    train_csv = pd.read_csv('weathertrain.csv',header= None,names = ['sentence','label'])\n",
    "    subset = train_csv[['sentence', 'label']]\n",
    "    tuples = [tuple(x) for x in subset.values]\n",
    "    return tuples"
   ]
  },
  {
   "cell_type": "markdown",
   "metadata": {},
   "source": [
    "# Training the data"
   ]
  },
  {
   "cell_type": "code",
   "execution_count": 7,
   "metadata": {
    "collapsed": true
   },
   "outputs": [],
   "source": [
    "def trainNBC():\n",
    "    data = get_traindata()\n",
    "    stop_words = set(stopwords.words(\"english\"))\n",
    "    d1 = [(' '.join(list((i for i in word_tokenize(sentence) if i not in stop_words))),tag) for sentence, tag in data ]\n",
    "    vocabulary = set(chain(*[word_tokenize(i[0].lower()) for i in d1 if i not in stop_words]))\n",
    "    feature_set = [({i:(i in word_tokenize(sentence.lower())) for i in vocabulary},tag) for sentence, tag in d1]\n",
    "    classifier = nbc.train(feature_set)\n",
    "    return vocabulary,classifier"
   ]
  },
  {
   "cell_type": "markdown",
   "metadata": {},
   "source": [
    "# Classifier for getting class"
   ]
  },
  {
   "cell_type": "code",
   "execution_count": 8,
   "metadata": {
    "collapsed": true
   },
   "outputs": [],
   "source": [
    "def get_class(query):\n",
    "    test_sentence = query\n",
    "    vocabulary,classifier = trainNBC()\n",
    "    featurized_test_sentence =  {i:(i in word_tokenize(test_sentence.lower())) for i in vocabulary}\n",
    "    ans = classifier.classify(featurized_test_sentence)\n",
    "    return ans"
   ]
  },
  {
   "cell_type": "markdown",
   "metadata": {},
   "source": [
    "# Method to get Class Relevant Data"
   ]
  },
  {
   "cell_type": "code",
   "execution_count": 92,
   "metadata": {},
   "outputs": [],
   "source": [
    "def get_output(query):\n",
    "    temperature = {}\n",
    "    weather_text = {}\n",
    "    rain_data = {}\n",
    "    full_details = {}\n",
    "    temperature['Highest temperature'] = weather.ix['high'][day_of_week]\n",
    "    temperature['Lowest temperature'] = weather.ix['low'][day_of_week]\n",
    "    temperature['Current temperature'] = weather.ix['current temperature'][day_of_week]\n",
    "    weather_text['During Day'] = weather.ix['day_weather'][day_of_week]\n",
    "    weather_text['During Night'] = weather.ix['night_weather'][day_of_week]\n",
    "    rain_data['During Day'] = weather.ix['day_chances_of_rain'][day_of_week]\n",
    "    rain_data['During Night'] = weather.ix['night_chances_of_rain'][day_of_week]\n",
    "    full_details['Day Time'] = [weather.ix['day_weather'][day_of_week],weather.ix['day_chances_of_rain'][day_of_week],weather.ix['day_humidity'][day_of_week]]\n",
    "    full_details['Night Time'] = [weather.ix['night_weather'][day_of_week],weather.ix['night_chances_of_rain'][day_of_week],weather.ix['night_humidity'][day_of_week]]\n",
    "    temp_pd = pd.DataFrame.from_dict(temperature,orient='index')\n",
    "    rain_pd = pd.DataFrame.from_dict(rain_data,orient='index')\n",
    "    weather_pd = pd.DataFrame.from_dict(weather_text,orient='index')\n",
    "    full_details_pd = pd.DataFrame.from_dict(full_details,orient='index')\n",
    "    temp_pd.columns = ['temperature']\n",
    "    temp = pd.DataFrame(temp_pd)\n",
    "    rain_pd.columns = ['rain']\n",
    "    weather_pd.columns = ['weather']\n",
    "    full_details_pd.columns = ['Weather','Chances of Rain','Humidity']\n",
    "    temp_pd = temp_pd.unstack(level=1)\n",
    "    rain_pd = rain_pd.unstack(level=1)\n",
    "    weather_pd = weather_pd.unstack(level=1)\n",
    "    frames = [temp_pd, rain_pd, weather_pd]\n",
    "    result = pd.DataFrame(pd.concat(frames))\n",
    "    result.columns = ['Details'] \n",
    "    category = get_class(query)\n",
    "    print(temp)\n",
    "    if category == 'max':\n",
    "        output = temp.ix['Highest temperature']['temperature']\n",
    "    elif category == 'min':\n",
    "        output = temp.ix['Lowest temperature']['temperature']\n",
    "    elif category == 'temperature':\n",
    "        output = temp.ix['Current temperature']['temperature']\n",
    "    else:\n",
    "        output = result.ix[category]\n",
    "    return output"
   ]
  },
  {
   "cell_type": "markdown",
   "metadata": {
    "collapsed": true
   },
   "source": [
    "# Check for greetings \n"
   ]
  },
  {
   "cell_type": "code",
   "execution_count": 93,
   "metadata": {},
   "outputs": [],
   "source": [
    "GREETING_KEYWORDS = (\"hello\", \"hi\", \"greetings\", \"sup\", \"what's up\",)\n",
    "\n",
    "GREETING_RESPONSES = [\"'sup bro\", \"hey\", \"*nods*\", \"hey you get my snap?\"]\n",
    "\n",
    "def check_for_greeting(sentence):\n",
    "    \"\"\"If any of the words in the user's input was a greeting, return a greeting response\"\"\"\n",
    "    for word in word_tokenize(sentence):\n",
    "        if word.lower() in GREETING_KEYWORDS:\n",
    "            return random.choice(GREETING_RESPONSES)\n",
    "        else:\n",
    "            return \"Nothing\""
   ]
  },
  {
   "cell_type": "markdown",
   "metadata": {
    "collapsed": true
   },
   "source": [
    "# Get User Input and produce output"
   ]
  },
  {
   "cell_type": "code",
   "execution_count": 96,
   "metadata": {},
   "outputs": [
    {
     "name": "stdout",
     "output_type": "stream",
     "text": [
      "Hello! What do you want to know ? wHAT IS THE coolest TEMPERATURE TODAY IN BENGALURU?\n",
      "                    temperature\n",
      "Current temperature          35\n",
      "Lowest temperature           21\n",
      "Highest temperature          33\n"
     ]
    },
    {
     "data": {
      "text/plain": [
       "'35'"
      ]
     },
     "execution_count": 96,
     "metadata": {},
     "output_type": "execute_result"
    }
   ],
   "source": [
    "query = input('Hello! What do you want to know ? ')\n",
    "greet = check_for_greeting(query)\n",
    "while greet != 'Nothing':\n",
    "    new_query = greet + ' How May I assist you ?'\n",
    "    query = input(new_query)\n",
    "    greet = check_for_greeting(query)\n",
    "question = \"\".join(l for l in query if l not in string.punctuation)\n",
    "city = get_location(question)\n",
    "day_of_week = get_day_of_week(question)\n",
    "weather, time, city = get_weather(city,day_of_week)\n",
    "if city == None:\n",
    "    print('Cannnot predict for data more than 5 days')\n",
    "else:   \n",
    "    output = get_output(query)\n",
    "    #print(\"**** \",output.columns.tolist()[0].capitalize(),\" Details for \",city,\" on \",day_of_week,\" as updated on \",time,\" ****\")\n",
    "    weather_data = output\n",
    "weather_data"
   ]
  }
 ],
 "metadata": {
  "kernelspec": {
   "display_name": "Python 3",
   "language": "python",
   "name": "python3"
  },
  "language_info": {
   "codemirror_mode": {
    "name": "ipython",
    "version": 3
   },
   "file_extension": ".py",
   "mimetype": "text/x-python",
   "name": "python",
   "nbconvert_exporter": "python",
   "pygments_lexer": "ipython3",
   "version": "3.5.2"
  }
 },
 "nbformat": 4,
 "nbformat_minor": 2
}
