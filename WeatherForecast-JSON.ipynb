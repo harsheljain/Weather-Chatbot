{
 "cells": [
  {
   "cell_type": "markdown",
   "metadata": {},
   "source": [
    "# WEATHER CHAT BOT"
   ]
  },
  {
   "cell_type": "code",
   "execution_count": 1,
   "metadata": {
    "collapsed": true
   },
   "outputs": [],
   "source": [
    "import numpy as np\n",
    "import pandas as pd\n",
    "from nltk.corpus import stopwords\n",
    "from nltk.tokenize import sent_tokenize, word_tokenize\n",
    "import re\n",
    "import nltk\n",
    "from nltk.stem import PorterStemmer\n",
    "from nltk.stem import WordNetLemmatizer\n",
    "from nltk.corpus import wordnet\n",
    "from itertools import chain\n",
    "from nltk import NaiveBayesClassifier as nbc\n",
    "import codecs\n",
    "import json\n",
    "from urllib.request import urlopen\n",
    "import datefinder\n",
    "import datetime,time\n",
    "from dateutil import parser\n",
    "from nltk.tag.stanford import StanfordNERTagger\n",
    "import pywapi\n",
    "import random, operator\n",
    "import string\n",
    "import re, math\n",
    "from collections import Counter\n",
    "import sys"
   ]
  },
  {
   "cell_type": "markdown",
   "metadata": {},
   "source": [
    "# Get date"
   ]
  },
  {
   "cell_type": "code",
   "execution_count": 2,
   "metadata": {
    "collapsed": true
   },
   "outputs": [],
   "source": [
    "def get_day_of_week(question):\n",
    "\n",
    "    question = question.lower()\n",
    "    matches = list(datefinder.find_dates(question))\n",
    "\n",
    "    if len(matches) > 0:\n",
    "        date = matches[0]\n",
    "        day = date.strftime('%A')\n",
    "        \n",
    "    else:\n",
    "        if 'today' in question:\n",
    "            day = ((datetime.date.today()).strftime('%A'))\n",
    "            \n",
    "        elif 'day after tomorrow' in question:\n",
    "            day = ((datetime.date.today() + datetime.timedelta(days = 2)).strftime('%A'))\n",
    "            \n",
    "        elif 'tomorrow' in question:\n",
    "            day = ((datetime.date.today() + datetime.timedelta(days = 1)).strftime('%A'))\n",
    "            \n",
    "        else:\n",
    "            day = ((datetime.date.today()).strftime('%A'))\n",
    "            \n",
    "    return day"
   ]
  },
  {
   "cell_type": "markdown",
   "metadata": {
    "collapsed": true
   },
   "source": [
    "# Get Location"
   ]
  },
  {
   "cell_type": "code",
   "execution_count": 3,
   "metadata": {},
   "outputs": [],
   "source": [
    "def get_location(question):\n",
    "    \n",
    "    location_tagger = StanfordNERTagger('Tagger/stanford-ner-2016-10-31/classifiers/english.conll.4class.distsim.crf.ser.gz', 'Tagger/stanford-ner-2016-10-31/stanford-ner-3.7.0.jar')\n",
    "    question = question.title()\n",
    "    tag = location_tagger.tag(question.split())\n",
    "    loc_word = ''\n",
    "    for word,tag in tag:\n",
    "        if(tag == 'LOCATION'):\n",
    "            loc_word = loc_word + \", \" + word\n",
    "        loc_word = loc_word.strip()\n",
    "    if loc_word == '':\n",
    "        loc_word = None\n",
    "    return loc_word"
   ]
  },
  {
   "cell_type": "markdown",
   "metadata": {},
   "source": [
    "# Get location id for that city"
   ]
  },
  {
   "cell_type": "code",
   "execution_count": 4,
   "metadata": {},
   "outputs": [],
   "source": [
    "def get_location_id(city):\n",
    "    count = 0\n",
    "    flag = True\n",
    "    lookup = pywapi.get_location_ids(city)\n",
    "    while len(lookup) != 1:\n",
    "        if len(lookup) > 1:\n",
    "            for key,value in lookup.items():\n",
    "                if 'India' in value:\n",
    "                    location_id = key\n",
    "                    city = value\n",
    "                    lookup = pywapi.get_location_ids(city)\n",
    "                    flag = False\n",
    "                    break\n",
    "        if flag == False:\n",
    "            break\n",
    "        if len(lookup) == 0:\n",
    "            return \"Fail\",None\n",
    "    for k in lookup:\n",
    "        location_id = k\n",
    "    return location_id,city"
   ]
  },
  {
   "cell_type": "markdown",
   "metadata": {},
   "source": [
    "# Get weather of that Day"
   ]
  },
  {
   "cell_type": "code",
   "execution_count": 5,
   "metadata": {
    "collapsed": true
   },
   "outputs": [],
   "source": [
    "def get_weather_of_day(weather_com,day_of_week):\n",
    "    weekday = ''\n",
    "    for get_day in range(len(weather_com['forecasts'])):\n",
    "        if day_of_week == weather_com['forecasts'][get_day]['day_of_week']:\n",
    "            weekday = get_day\n",
    "            break\n",
    "    return weekday"
   ]
  },
  {
   "cell_type": "markdown",
   "metadata": {},
   "source": [
    "# Getting the train Data"
   ]
  },
  {
   "cell_type": "code",
   "execution_count": 6,
   "metadata": {
    "collapsed": true
   },
   "outputs": [],
   "source": [
    "def get_traindata():\n",
    "    train_csv = pd.read_csv('weathertrain.csv',header= None,names = ['sentence','label'])\n",
    "    subset = train_csv[['sentence', 'label']]\n",
    "    tuples = [tuple(x) for x in subset.values]\n",
    "    return tuples"
   ]
  },
  {
   "cell_type": "markdown",
   "metadata": {},
   "source": [
    "# Training the data"
   ]
  },
  {
   "cell_type": "code",
   "execution_count": 7,
   "metadata": {
    "collapsed": true
   },
   "outputs": [],
   "source": [
    "def trainNBC():\n",
    "    data = get_traindata()\n",
    "    stop_words = set(stopwords.words(\"english\"))\n",
    "    d1 = [(' '.join(list((i for i in word_tokenize(sentence) if i not in stop_words))),tag) for sentence, tag in data ]\n",
    "    vocabulary = set(chain(*[word_tokenize(i[0].lower()) for i in d1 if i not in stop_words]))\n",
    "    feature_set = [({i:(i in word_tokenize(sentence.lower())) for i in vocabulary},tag) for sentence, tag in d1]\n",
    "    classifier = nbc.train(feature_set)\n",
    "    return vocabulary,classifier"
   ]
  },
  {
   "cell_type": "markdown",
   "metadata": {},
   "source": [
    "# Classifier for getting class"
   ]
  },
  {
   "cell_type": "code",
   "execution_count": 8,
   "metadata": {},
   "outputs": [],
   "source": [
    "def get_class(query):\n",
    "    test_sentence = query\n",
    "    count = 0\n",
    "    vocabulary,classifier = trainNBC()\n",
    "    featurized_test_sentence =  {i:(i in word_tokenize(test_sentence.lower())) for i in vocabulary}\n",
    "    for k,v in featurized_test_sentence.items():\n",
    "        if v == True:\n",
    "            count += 1\n",
    "    if count == 0:\n",
    "        ans = None\n",
    "    else:\n",
    "        ans = classifier.classify(featurized_test_sentence)\n",
    "    return ans"
   ]
  },
  {
   "cell_type": "markdown",
   "metadata": {},
   "source": [
    "# Get Results"
   ]
  },
  {
   "cell_type": "code",
   "execution_count": 9,
   "metadata": {},
   "outputs": [],
   "source": [
    "def get_weather(city,day_of_week,old_category):\n",
    "  # Getting location id for that city  \n",
    "    location_id, city = get_location_id(city)\n",
    " # Getting weather data for that city\n",
    "    weather_com = pywapi.get_weather_from_weather_com(location_id)  \n",
    "  # Getting weather data for that day\n",
    "    weekday = get_weather_of_day(weather_com,day_of_week)\n",
    "    output = {'maxtemp':32,\n",
    "              'mintemp':24,\n",
    "             'avgtemp':28,\n",
    "             'temp':29,\n",
    "              'day_of_week':day_of_week,\n",
    "             'rain':'No',\n",
    "             'percentrain_day':'15',\n",
    "              'percentrain_night':'15',\n",
    "             'weather_day':'Clear',\n",
    "              'weather_night':'Clear',\n",
    "              'flag':'not rain',\n",
    "              'city':city,\n",
    "             'category':old_category}\n",
    "    if weekday == '':\n",
    "        return None\n",
    "    output['temp'] = int(weather_com['current_conditions']['temperature'])\n",
    "    weekday_weather = weather_com['forecasts'][weekday]\n",
    "    category = get_class(query)\n",
    "    output['maxtemp'] = weekday_weather['high']\n",
    "    output['mintemp'] = weekday_weather['low']\n",
    "    output['avgtemp'] = (int(weekday_weather['high']) + int(weekday_weather['low']))/2\n",
    "    output['percentrain_day'] = weekday_weather['day']['chance_precip']\n",
    "    output['percentrain_night'] = weekday_weather['night']['chance_precip']\n",
    "    if int(output['percentrain_day']) > 30 or  int(output['percentrain_night']) > 30:\n",
    "        output['rain'] = 'Yes' \n",
    "        output['flag'] = 'rain'\n",
    "    output['weather_day'] = weekday_weather['day']['text'] if weekday_weather['day']['text'] else \"Clear\"\n",
    "    output['weather_night'] = weekday_weather['night']['text'] if weekday_weather['night']['text'] else \"Clear\"\n",
    "    if category != None:\n",
    "        output['category'] = category\n",
    "    return output"
   ]
  },
  {
   "cell_type": "markdown",
   "metadata": {},
   "source": [
    "# Reading the JSON File"
   ]
  },
  {
   "cell_type": "code",
   "execution_count": 10,
   "metadata": {},
   "outputs": [],
   "source": [
    "file = json.loads(open('bot_Q&A.json').read())"
   ]
  },
  {
   "cell_type": "markdown",
   "metadata": {},
   "source": [
    "# Getting most similar sentences"
   ]
  },
  {
   "cell_type": "code",
   "execution_count": 11,
   "metadata": {},
   "outputs": [],
   "source": [
    "def get_cosine(vec1, vec2):\n",
    "     intersection = set(vec1.keys()) & set(vec2.keys())\n",
    "     numerator = sum([vec1[x] * vec2[x] for x in intersection])\n",
    "     sum1 = sum([vec1[x]**2 for x in vec1.keys()])\n",
    "     sum2 = sum([vec2[x]**2 for x in vec2.keys()])\n",
    "     denominator = math.sqrt(sum1) * math.sqrt(sum2)\n",
    "\n",
    "     if not denominator:\n",
    "        return 0.0\n",
    "     else:\n",
    "        return float(numerator) / denominator\n",
    "\n",
    "def text_to_vector(text):\n",
    "     WORD = re.compile(r'\\w+')\n",
    "     words = WORD.findall(text)\n",
    "     return Counter(words)\n",
    "def get_question_match(user_question, question_list):\n",
    "    question_similarity = {}\n",
    "    for i in question_list:\n",
    "        cosine = get_cosine(text_to_vector(user_question.lower()), text_to_vector(i.lower()))\n",
    "        question_similarity[i] = cosine\n",
    "    sorted_questions = sorted(question_similarity.items(), key=operator.itemgetter(1), reverse=True)  \n",
    "    return sorted_questions[0][0]\n"
   ]
  },
  {
   "cell_type": "markdown",
   "metadata": {},
   "source": [
    "# Getting most suitable reply"
   ]
  },
  {
   "cell_type": "code",
   "execution_count": 12,
   "metadata": {
    "collapsed": true
   },
   "outputs": [],
   "source": [
    "def get_response(question, category):\n",
    "    similar_question = get_question_match(question, list(file[category].keys()))\n",
    "    response_to_user = random.choice(file[category][similar_question])\n",
    "    return response_to_user"
   ]
  },
  {
   "cell_type": "markdown",
   "metadata": {
    "collapsed": true
   },
   "source": [
    "# Get User Input and produce output"
   ]
  },
  {
   "cell_type": "code",
   "execution_count": 13,
   "metadata": {},
   "outputs": [],
   "source": [
    "intent = None\n",
    "location = None\n",
    "def user_response(query):\n",
    "    global intent\n",
    "    global location\n",
    "    query = ' '.join(l for l in word_tokenize(query) if l not in string.punctuation)\n",
    "    category = get_class(query)\n",
    "    city = get_location(query)\n",
    "    day_of_week = get_day_of_week(query)\n",
    "    \n",
    "    if category == None and city == None:\n",
    "        output = get_response(query, \"random\")\n",
    "        return output\n",
    "    \n",
    "    elif city == None and location == None:\n",
    "        intent = category\n",
    "        return 'Please enter your location'\n",
    "    \n",
    "    elif city != None and intent == None:\n",
    "        location = city\n",
    "        return 'What do you wanna Know?'\n",
    "       \n",
    "    elif city == None and category != None:\n",
    "        city = location\n",
    "        weather = get_weather(city,day_of_week,category)\n",
    "        if weather == None:\n",
    "            return 'Cannot predict data for more than 5 days'\n",
    "        else:\n",
    "            response_user = get_response(query, category)\n",
    "            output = response_user.format(**weather)\n",
    "            intent = category\n",
    "            location = city\n",
    "            return output\n",
    "        \n",
    "    elif city != None and category == None:\n",
    "        category = intent\n",
    "        weather = get_weather(city,day_of_week,category)\n",
    "        location = city\n",
    "        if weather == None:\n",
    "            return 'Cannot predict data for more than 5 days'\n",
    "        else:\n",
    "            response_user = get_response(query, category)\n",
    "            output = response_user.format(**weather)\n",
    "            intent = category\n",
    "            location = city\n",
    "            return output\n",
    "    \n",
    "    else:\n",
    "        location = city\n",
    "        intent = category\n",
    "        weather = get_weather(city,day_of_week,category)\n",
    "        if weather == None:\n",
    "            return 'Cannot predict data for more than 5 days'\n",
    "        else:\n",
    "            response_user = get_response(query, category)\n",
    "            output = response_user.format(**weather)\n",
    "            intent = category\n",
    "            location = city\n",
    "            return output"
   ]
  },
  {
   "cell_type": "markdown",
   "metadata": {},
   "source": [
    "# Running the chat"
   ]
  },
  {
   "cell_type": "code",
   "execution_count": 14,
   "metadata": {},
   "outputs": [],
   "source": [
    "while(True):\n",
    "    query = input()\n",
    "    print(user_response(query))"
   ]
  },
  {
   "cell_type": "code",
   "execution_count": null,
   "metadata": {
    "collapsed": true
   },
   "outputs": [],
   "source": []
  }
 ],
 "metadata": {
  "kernelspec": {
   "display_name": "Python 3",
   "language": "python",
   "name": "python3"
  },
  "language_info": {
   "codemirror_mode": {
    "name": "ipython",
    "version": 3
   },
   "file_extension": ".py",
   "mimetype": "text/x-python",
   "name": "python",
   "nbconvert_exporter": "python",
   "pygments_lexer": "ipython3",
   "version": "3.5.2"
  }
 },
 "nbformat": 4,
 "nbformat_minor": 2
}
